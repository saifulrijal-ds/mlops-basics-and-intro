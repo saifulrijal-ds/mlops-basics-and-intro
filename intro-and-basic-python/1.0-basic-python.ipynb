{
 "cells": [
  {
   "cell_type": "markdown",
   "metadata": {},
   "source": [
    "**Syntax** refers to the set of rules that defines the combinations of symbols that are considered to be correctly structured programs in a language. Istilah sederhananya, *syntax* adalah penyusuanan atau pengaturan kata dan simbol yang **benar** dalam suatu *code*."
   ]
  },
  {
   "cell_type": "markdown",
   "metadata": {},
   "source": []
  }
 ],
 "metadata": {
  "kernelspec": {
   "display_name": "Python 3",
   "language": "python",
   "name": "python3"
  },
  "language_info": {
   "name": "python",
   "version": "3.12.1"
  }
 },
 "nbformat": 4,
 "nbformat_minor": 2
}
